{
 "cells": [
  {
   "cell_type": "code",
   "execution_count": 2,
   "metadata": {},
   "outputs": [
    {
     "name": "stdout",
     "output_type": "stream",
     "text": [
      "The autoreload extension is already loaded. To reload it, use:\n",
      "  %reload_ext autoreload\n"
     ]
    }
   ],
   "source": [
    "%load_ext autoreload\n",
    "%autoreload 2"
   ]
  },
  {
   "cell_type": "markdown",
   "metadata": {},
   "source": [
    "# 🍃 DB"
   ]
  },
  {
   "cell_type": "code",
   "execution_count": null,
   "metadata": {},
   "outputs": [],
   "source": [
    "from os import getenv\n",
    "from db.main import ActDb\n",
    "db_uri = getenv(\"MONGO_DB_URI\")\n",
    "db_client = ActDb(host=db_uri, name=\"ACT\")"
   ]
  },
  {
   "cell_type": "code",
   "execution_count": null,
   "metadata": {},
   "outputs": [],
   "source": [
    "id = 1337479592398553121 # C-T-S guild id\n",
    "db_client.db_refs = {} # Clear databases memory cache to force retrieval from mongodb\n",
    "db = db_client.get_engine(id)\n",
    "db.name"
   ]
  },
  {
   "cell_type": "code",
   "execution_count": null,
   "metadata": {},
   "outputs": [],
   "source": [
    "id = 1337479593183023226  # general channel id\n",
    "ai_chat_sessions = db[\"ai_chat_sessions\"]\n",
    "\n",
    "sessions = ai_chat_sessions.find_one(\n",
    "    {}, {\"history\": {\"$slice\": -5}, \"_id\": 0}\n",
    ")\n",
    "\n",
    "history = sessions[\"history\"]\n",
    "print(len(history), \"items\")\n",
    "sessions\n",
    "history"
   ]
  },
  {
   "cell_type": "code",
   "execution_count": null,
   "metadata": {},
   "outputs": [],
   "source": [
    "from pydantic import RootModel\n",
    "query = { \"_id\": 355042058567942165 }\n",
    "\n",
    "class Db(BaseModel):\n",
    "    id: int | str = Field(alias=\"_id\")\n",
    "    name: str\n",
    "\n",
    "class DbList(RootModel[list[Db]]):\n",
    "    def __iter__(self):\n",
    "        return iter(self.root)\n",
    "\n",
    "    def __getitem__(self, item):\n",
    "        return self.root[item]\n",
    "\n",
    "\n",
    "# Db(**db_client[\"ACT\"][\"db_refs\"].find_one(query))\n",
    "\n",
    "\n",
    "dbs = db_client[\"ACT\"][\"db_refs\"].find()\n",
    "for db in dbs:\n",
    "    print(\"◽\", db, \" : \", type(db))\n",
    "\n",
    "print(list(dbs))\n",
    "dbs = DbList(dbs) \n",
    "for db in dbs:\n",
    "    print(\"◽\", db, \" : \", type(db))"
   ]
  },
  {
   "cell_type": "code",
   "execution_count": 3,
   "metadata": {},
   "outputs": [
    {
     "name": "stderr",
     "output_type": "stream",
     "text": [
      "⏳ [db.main] Database client opening...\n",
      "✅ [db.main] 🍃 Database client connected to localhost:1717.\n",
      "ℹ️ [db.main] \n",
      "┌────────────┐\n",
      "│ Databases: │\n",
      "│ • admin    │\n",
      "│ • config   │\n",
      "│ • local    │\n",
      "└────────────┘\n"
     ]
    }
   ],
   "source": [
    "from db.main import ActDb\n",
    "db = ActDb(host=\"mongodb://localhost:1717\", name=\"ACT\")"
   ]
  },
  {
   "cell_type": "code",
   "execution_count": 14,
   "metadata": {},
   "outputs": [
    {
     "data": {
      "text/plain": [
       "Database(MongoClient(host=['localhost:1717'], document_class=dict, tz_aware=False, connect=True), 'TESTDB_comon')"
      ]
     },
     "execution_count": 14,
     "metadata": {},
     "output_type": "execute_result"
    }
   ],
   "source": [
    "db.get_engine(1337398405001117729).database # 1337398405001117729"
   ]
  }
 ],
 "metadata": {
  "kernelspec": {
   "display_name": ".venv",
   "language": "python",
   "name": "python3"
  },
  "language_info": {
   "codemirror_mode": {
    "name": "ipython",
    "version": 3
   },
   "file_extension": ".py",
   "mimetype": "text/x-python",
   "name": "python",
   "nbconvert_exporter": "python",
   "pygments_lexer": "ipython3",
   "version": "3.13.1"
  }
 },
 "nbformat": 4,
 "nbformat_minor": 2
}
