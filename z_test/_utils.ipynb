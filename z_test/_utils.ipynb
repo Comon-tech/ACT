{
 "cells": [
  {
   "cell_type": "code",
   "execution_count": null,
   "metadata": {},
   "outputs": [],
   "source": [
    "%load_ext autoreload\n",
    "%autoreload 2"
   ]
  },
  {
   "cell_type": "markdown",
   "metadata": {},
   "source": [
    "# 🛠 Utils\n"
   ]
  },
  {
   "cell_type": "code",
   "execution_count": null,
   "metadata": {},
   "outputs": [],
   "source": [
    "from datetime import datetime\n",
    "\n",
    "datetime.now().strftime(\"[%Y-%m-%d|%X]\")\n",
    "obj = {\"hi\": 0, \"hello\": 1, \"world\": 2}\n",
    "[*obj]"
   ]
  },
  {
   "cell_type": "code",
   "execution_count": null,
   "metadata": {},
   "outputs": [],
   "source": [
    "from utils.file import ActFile\n",
    "\n",
    "# f = ActFile(data=b\"\\x1a\")\n",
    "\n",
    "f = ActFile.load(\"https://cdn.discordapp.com/attachments/1337479593183023226/1342806449809657950/test-image-64x64.png?ex=67baf975&is=67b9a7f5&hm=4f259e5c3be116acd0cdf8b2026914c7d5d7fa8688c39ecafebad56b86581d40&\")\n",
    "# f = ActFile.load(\"https://cdn.discordapp.com/attachments/1337479593183023226/1342545791260033035/comon-logo-spin.webm?ex=67baaf73&is=67b95df3&hm=dd3aa01893adb04beecde0f9dd3fb1d01a7dd5f3c308908128427bb3912803ea&\")\n",
    "# f = ActFile.load(\"pyproject.toml\")\n",
    "# f = ActFile.load(\"https://tenor.com/view/the-one-jet-li-bullet-time-kick-action-gif-26111036\")\n",
    "\n",
    "# print(f.name, \":\", f.mime_type, \"-->\", f.major_type, \"(\",  f.size,\" bytes )\")\n",
    "# print(f.data)\n",
    "# print(\"👇\")\n",
    "# print(f.text)Z\n",
    "\n",
    "str(f)"
   ]
  },
  {
   "cell_type": "code",
   "execution_count": 12,
   "metadata": {},
   "outputs": [
    {
     "name": "stdout",
     "output_type": "stream",
     "text": [
      "Bad words:\n",
      "#0 Shoot: 75% (0.7548510274136075)\n",
      "#1 Ohh: 54% (0.5386781922217238)\n",
      "#2 We: 4% (0.03686327802381447)\n",
      "#3 will: 4% (0.03686327802381447)\n",
      "#4 test: 1% (0.008391262960679548)\n",
      "#5 CuNt: 100% (0.9999905004769302)\n",
      "#6 and: 4% (0.03686327802381447)\n",
      "#7 FuCk.: 100% (0.9999999999972535)\n",
      "#8 Maybe,: 3% (0.0326957016621721)\n",
      "#9 Yeah: 7% (0.07411545808528545)\n",
      "#10 bItch,: 100% (0.9999999999500696)\n",
      "#11 What?: 4% (0.03686327802381447)\n",
      "#12 This: 4% (0.03686327802381447)\n",
      "#13 Is: 4% (0.03686327802381447)\n",
      "#14 cring: 4% (0.03686327802381447)\n",
      "#15 DuMbAsS: 100% (0.9989037354074615)\n",
      "#16 Please: 4% (0.03686327802381447)\n",
      "#17 no: 4% (0.03686327802381447)\n",
      "#18 bad: 12% (0.1226694265167477)\n",
      "#19 words: 4% (0.03613674029367816)\n"
     ]
    },
    {
     "data": {
      "text/plain": [
       "array([0.75485103, 0.53867819, 0.03686328, 0.03686328, 0.00839126,\n",
       "       0.9999905 , 0.03686328, 1.        , 0.0326957 , 0.07411546,\n",
       "       1.        , 0.03686328, 0.03686328, 0.03686328, 0.03686328,\n",
       "       0.99890374, 0.03686328, 0.03686328, 0.12266943, 0.03613674])"
      ]
     },
     "execution_count": 12,
     "metadata": {},
     "output_type": "execute_result"
    }
   ],
   "source": [
    "from profanity_check import predict, predict_prob\n",
    "\n",
    "content = \"Shoot Ohh We will test CuNt and FuCk. Maybe, Yeah bItch, What? This Is cring DuMbAsS Please no bad words \".split()\n",
    "predictions = predict_prob(content)\n",
    "\n",
    "print(\"Bad words:\")\n",
    "for i, prefiction in enumerate(predictions):\n",
    "    print(f\"#{i}\", f\"{content[i]}:\",  f\"{round(100 * prefiction)}%\", f\"({prefiction})\")\n",
    "\n",
    "predictions"
   ]
  }
 ],
 "metadata": {
  "kernelspec": {
   "display_name": ".venv",
   "language": "python",
   "name": "python3"
  },
  "language_info": {
   "codemirror_mode": {
    "name": "ipython",
    "version": 3
   },
   "file_extension": ".py",
   "mimetype": "text/x-python",
   "name": "python",
   "nbconvert_exporter": "python",
   "pygments_lexer": "ipython3",
   "version": "3.13.1"
  }
 },
 "nbformat": 4,
 "nbformat_minor": 2
}
