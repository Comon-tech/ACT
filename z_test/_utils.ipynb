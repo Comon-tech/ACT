{
 "cells": [
  {
   "cell_type": "code",
   "execution_count": null,
   "metadata": {},
   "outputs": [],
   "source": [
    "%load_ext autoreload\n",
    "%autoreload 2"
   ]
  },
  {
   "cell_type": "markdown",
   "metadata": {},
   "source": [
    "# 🛠 Utils\n"
   ]
  },
  {
   "cell_type": "code",
   "execution_count": null,
   "metadata": {},
   "outputs": [],
   "source": [
    "from datetime import datetime\n",
    "\n",
    "datetime.now().strftime(\"[%Y-%m-%d|%X]\")\n",
    "obj = {\"hi\": 0, \"hello\": 1, \"world\": 2}\n",
    "[*obj]"
   ]
  },
  {
   "cell_type": "code",
   "execution_count": null,
   "metadata": {},
   "outputs": [],
   "source": [
    "from utils.file import ActFile\n",
    "\n",
    "# f = ActFile(data=b\"\\x1a\")\n",
    "\n",
    "f = ActFile.load(\"https://cdn.discordapp.com/attachments/1337479593183023226/1342806449809657950/test-image-64x64.png?ex=67baf975&is=67b9a7f5&hm=4f259e5c3be116acd0cdf8b2026914c7d5d7fa8688c39ecafebad56b86581d40&\")\n",
    "# f = ActFile.load(\"https://cdn.discordapp.com/attachments/1337479593183023226/1342545791260033035/comon-logo-spin.webm?ex=67baaf73&is=67b95df3&hm=dd3aa01893adb04beecde0f9dd3fb1d01a7dd5f3c308908128427bb3912803ea&\")\n",
    "# f = ActFile.load(\"pyproject.toml\")\n",
    "# f = ActFile.load(\"https://tenor.com/view/the-one-jet-li-bullet-time-kick-action-gif-26111036\")\n",
    "\n",
    "# print(f.name, \":\", f.mime_type, \"-->\", f.major_type, \"(\",  f.size,\" bytes )\")\n",
    "# print(f.data)\n",
    "# print(\"👇\")\n",
    "# print(f.text)Z\n",
    "\n",
    "str(f)"
   ]
  },
  {
   "cell_type": "code",
   "execution_count": 12,
   "metadata": {},
   "outputs": [
    {
     "name": "stdout",
     "output_type": "stream",
     "text": [
      "Bad words:\n",
      "Shoot:\t 75 %\n",
      "shit:\t 100 %\n",
      "hate:\t 90 %\n",
      "ugly:\t 89 %\n",
      "sh:\t 85 %\n",
      "shut:\t 98 %\n",
      "up:\t 4 %\n",
      "Ohh:\t 54 %\n",
      "We:\t 4 %\n",
      "will:\t 4 %\n",
      "test:\t 1 %\n",
      "CuNt:\t 100 %\n",
      "and:\t 4 %\n",
      "FuCk.:\t 100 %\n",
      "Maybe,:\t 3 %\n",
      "Yeah:\t 7 %\n",
      "bItch,:\t 100 %\n",
      "What?:\t 4 %\n",
      "This:\t 4 %\n",
      "Is:\t 4 %\n",
      "cring:\t 4 %\n",
      "DuMbAsS:\t 100 %\n",
      "Please:\t 4 %\n",
      "no:\t 4 %\n",
      "bad:\t 12 %\n",
      "words:\t 4 %\n"
     ]
    },
    {
     "data": {
      "text/plain": [
       "array([0.75485103, 0.99999978, 0.90172162, 0.89174782, 0.84905614,\n",
       "       0.98060388, 0.03686328, 0.53867819, 0.03686328, 0.03686328,\n",
       "       0.00839126, 0.9999905 , 0.03686328, 1.        , 0.0326957 ,\n",
       "       0.07411546, 1.        , 0.03686328, 0.03686328, 0.03686328,\n",
       "       0.03686328, 0.99890374, 0.03686328, 0.03686328, 0.12266943,\n",
       "       0.03613674])"
      ]
     },
     "execution_count": 12,
     "metadata": {},
     "output_type": "execute_result"
    }
   ],
   "source": [
    "from profanity_check import predict, predict_prob\n",
    "\n",
    "content = \"Shoot shit hate ugly sh shut up Ohh We will test CuNt and FuCk. Maybe, Yeah bItch, What? This Is cring DuMbAsS Please no bad words \".split()\n",
    "predictions = predict_prob(content)\n",
    "\n",
    "print(\"Bad words:\")\n",
    "for i, prefiction in enumerate(predictions):\n",
    "    print(f\"{content[i]}:\\t\",  f\"{round(100 * prefiction)} %\")\n",
    "\n",
    "predictions"
   ]
  }
 ],
 "metadata": {
  "kernelspec": {
   "display_name": ".venv",
   "language": "python",
   "name": "python3"
  },
  "language_info": {
   "codemirror_mode": {
    "name": "ipython",
    "version": 3
   },
   "file_extension": ".py",
   "mimetype": "text/x-python",
   "name": "python",
   "nbconvert_exporter": "python",
   "pygments_lexer": "ipython3",
   "version": "3.13.1"
  }
 },
 "nbformat": 4,
 "nbformat_minor": 2
}
