{
 "cells": [
  {
   "cell_type": "code",
   "execution_count": null,
   "metadata": {},
   "outputs": [],
   "source": [
    "%load_ext autoreload\n",
    "%autoreload 2"
   ]
  },
  {
   "cell_type": "markdown",
   "metadata": {},
   "source": [
    "# 🛠 Utils\n"
   ]
  },
  {
   "cell_type": "code",
   "execution_count": null,
   "metadata": {},
   "outputs": [],
   "source": [
    "from datetime import datetime\n",
    "\n",
    "datetime.now().strftime(\"[%Y-%m-%d|%X]\")\n",
    "obj = {\"hi\": 0, \"hello\": 1, \"world\": 2}\n",
    "[*obj]"
   ]
  },
  {
   "cell_type": "code",
   "execution_count": null,
   "metadata": {},
   "outputs": [],
   "source": [
    "from utils.file import ActFile\n",
    "\n",
    "# f = ActFile(data=b\"\\x1a\")\n",
    "\n",
    "f = ActFile.load(\"https://cdn.discordapp.com/attachments/1337479593183023226/1342806449809657950/test-image-64x64.png?ex=67baf975&is=67b9a7f5&hm=4f259e5c3be116acd0cdf8b2026914c7d5d7fa8688c39ecafebad56b86581d40&\")\n",
    "# f = ActFile.load(\"https://cdn.discordapp.com/attachments/1337479593183023226/1342545791260033035/comon-logo-spin.webm?ex=67baaf73&is=67b95df3&hm=dd3aa01893adb04beecde0f9dd3fb1d01a7dd5f3c308908128427bb3912803ea&\")\n",
    "# f = ActFile.load(\"pyproject.toml\")\n",
    "# f = ActFile.load(\"https://tenor.com/view/the-one-jet-li-bullet-time-kick-action-gif-26111036\")\n",
    "\n",
    "# print(f.name, \":\", f.mime_type, \"-->\", f.major_type, \"(\",  f.size,\" bytes )\")\n",
    "# print(f.data)\n",
    "# print(\"👇\")\n",
    "# print(f.text)Z\n",
    "\n",
    "str(f)"
   ]
  },
  {
   "cell_type": "code",
   "execution_count": 50,
   "metadata": {},
   "outputs": [
    {
     "name": "stdout",
     "output_type": "stream",
     "text": [
      "Bad words:\n",
      "• 3 - CuNt\n",
      "• 5 - FuCk.\n",
      "• 8 - bItch,\n",
      "• 13 - DuMbAsS\n"
     ]
    },
    {
     "data": {
      "text/plain": [
       "array([0, 0, 0, 1, 0, 1, 0, 0, 1, 0, 0, 0, 0, 1, 0, 0, 0, 0])"
      ]
     },
     "execution_count": 50,
     "metadata": {},
     "output_type": "execute_result"
    }
   ],
   "source": [
    "from profanity_check import predict\n",
    "\n",
    "content = \"We will test CuNt and FuCk. Maybe, Yeah bItch, What? This Is cring DuMbAsS Please no bad words \".split()\n",
    "predictions = predict(content)\n",
    "\n",
    "print(\"Bad words:\")\n",
    "for i, word in enumerate(predictions):\n",
    "    if word:\n",
    "        print(\"•\", i, \"-\", content[i])\n",
    "\n",
    "predictions"
   ]
  }
 ],
 "metadata": {
  "kernelspec": {
   "display_name": ".venv",
   "language": "python",
   "name": "python3"
  },
  "language_info": {
   "codemirror_mode": {
    "name": "ipython",
    "version": 3
   },
   "file_extension": ".py",
   "mimetype": "text/x-python",
   "name": "python",
   "nbconvert_exporter": "python",
   "pygments_lexer": "ipython3",
   "version": "3.13.1"
  }
 },
 "nbformat": 4,
 "nbformat_minor": 2
}
