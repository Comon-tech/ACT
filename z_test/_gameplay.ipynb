{
 "cells": [
  {
   "cell_type": "code",
   "execution_count": null,
   "metadata": {},
   "outputs": [],
   "source": [
    "%load_ext autoreload\n",
    "%autoreload 2"
   ]
  },
  {
   "cell_type": "markdown",
   "metadata": {},
   "source": [
    "# 👾 Gameplay\n"
   ]
  },
  {
   "cell_type": "code",
   "execution_count": null,
   "metadata": {},
   "outputs": [
    {
     "name": "stdout",
     "output_type": "stream",
     "text": [
      "[(0, 0), (1, 100), (2, 565), (3, 1558), (4, 3200), (5, 5590), (6, 8818), (7, 12964), (8, 18101), (9, 24300), (10, 31622)]\n",
      "[('Unranked', 0), ('Iron', 30), ('Bronze', 60), ('Silver', 90), ('Gold', 120), ('Platinum', 150), ('Emerald', 180), ('Diamond', 210), ('Master', 240), ('Grandmaster', 270), ('10', 300)]\n",
      "\n",
      "id=0 xp=0 level=0 rank=0 gold=0 items=[]\n",
      "xp for next level: 100\n",
      "level for next rank: 30\n"
     ]
    }
   ],
   "source": [
    "from db.actor import Actor\n",
    "\n",
    "actor = Actor(None, id=0)\n",
    "\n",
    "\n",
    "print(actor.level_xp_table(0, 10))\n",
    "print(actor.rank_level_table(0, 10))\n",
    "\n",
    "print()\n",
    "print(actor)\n",
    "print(\"xp for next level:\", actor.next_level_xp)\n",
    "print(\"level for next rank:\", actor.next_rank_level)"
   ]
  }
 ],
 "metadata": {
  "language_info": {
   "name": "python"
  }
 },
 "nbformat": 4,
 "nbformat_minor": 2
}
