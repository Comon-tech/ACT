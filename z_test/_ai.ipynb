{
 "cells": [
  {
   "cell_type": "code",
   "execution_count": null,
   "metadata": {},
   "outputs": [],
   "source": [
    "%load_ext autoreload\n",
    "%autoreload 2"
   ]
  },
  {
   "cell_type": "markdown",
   "metadata": {},
   "source": [
    "# 🤖 AI\n"
   ]
  },
  {
   "cell_type": "code",
   "execution_count": null,
   "metadata": {},
   "outputs": [],
   "source": [
    "import google.generativeai as genai  # type: ignore\n",
    "import os\n",
    "\n",
    "genai.configure(api_key=os.getenv(\"GEMINI_AI_API_KEY\"))\n",
    "\n",
    "bot_personality = \"u're 'activa' an ai bot that acts as real discord server member.\"\n",
    "model = genai.GenerativeModel(\n",
    "    model_name=\"gemini-1.5-flash\", system_instruction=bot_personality\n",
    ")\n",
    "\n",
    "recent_discord_channel_messages = (\n",
    "    \"userA: luv u.\\nuserB: i luv u too\"  # placeholder for future\n",
    ")\n",
    "chat_context = f\"Context of conversation:\\n{recent_discord_channel_messages}\"\n",
    "history = [\n",
    "    {\n",
    "        \"role\": \"user\",\n",
    "        \"parts\": [chat_context],\n",
    "    }\n",
    "]\n",
    "\n",
    "chat_session = model.start_chat(history=history)\n",
    "chat_session"
   ]
  },
  {
   "cell_type": "code",
   "execution_count": null,
   "metadata": {},
   "outputs": [],
   "source": [
    "message = \"what does ur name means?\"\n",
    "response = chat_session.send_message(message)\n",
    "\n",
    "print(response, \"\\n\", chat_session)"
   ]
  },
  {
   "cell_type": "code",
   "execution_count": null,
   "metadata": {},
   "outputs": [],
   "source": [
    "from google.generativeai.generative_models import ChatSession, GenerativeModel\n",
    "from google.generativeai.protos import Content, GenerateContentResponse\n",
    "\n",
    "history = [\n",
    "    Content({\"parts\": [{\"text\": \"Context of c...: i luv u too\"}], \"role\": \"user\"}),\n",
    "    Content({\"parts\": [{\"text\": \"what's ur name?\"}], \"role\": \"user\"}),\n",
    "    Content({\"parts\": [{\"text\": \"Hey there!  ... What's up?\\n\"}], \"role\": \"model\"}),\n",
    "    Content({\"parts\": [{\"text\": \"what does ur name means?\"}], \"role\": \"user\"}),\n",
    "    Content({\"parts\": [{\"text\": '\"Activa\" is ... your name?\\n'}], \"role\": \"model\"}),\n",
    "]\n",
    "\n",
    "\n",
    "def dump_history(history: list[Content]):\n",
    "    return [Content.to_dict(content) for content in history]\n",
    "\n",
    "\n",
    "history_raw = dump_history(history)\n",
    "\n",
    "import requests\n",
    "\n",
    "http_resp = requests.get(\n",
    "    \"https://media1.tenor.com/m/u8Gj0qG5glIAAAAd/cat-sticker-line-sticker.gif\"\n",
    ")\n",
    "session = ChatSession(\n",
    "    model=None,\n",
    "    history=[\n",
    "        {\n",
    "            \"role\": \"\",\n",
    "            \"parts\": [\n",
    "                \"this is inline text\",\n",
    "                {\"text\": \"this text from dict text key value\"},\n",
    "                {\n",
    "                    \"mime_type\": \"image/png\",\n",
    "                    \"data\": http_resp.content,\n",
    "                },\n",
    "            ],\n",
    "        },\n",
    "        {\n",
    "            \"role\": \"\",\n",
    "            \"parts\": [\n",
    "                {\n",
    "                    \"mime_type\": \"image/png\",\n",
    "                    \"data\": \"\",\n",
    "                }\n",
    "            ],\n",
    "        },\n",
    "        {\"role\": \"\", \"parts\": [\"hi\", \"hhhh\"]},\n",
    "    ],\n",
    ")\n",
    "session.history"
   ]
  },
  {
   "cell_type": "code",
   "execution_count": 1,
   "metadata": {},
   "outputs": [],
   "source": [
    "%load_ext autoreload\n",
    "%autoreload 2"
   ]
  },
  {
   "cell_type": "code",
   "execution_count": null,
   "metadata": {},
   "outputs": [
    {
     "name": "stdout",
     "output_type": "stream",
     "text": [
      "👉 u're AI that acts as real person\n",
      "👉 u're name's eva\n",
      "👉 u're member in 'GOAT' discord server\n",
      "👉 CSV of people u know: name,info|best friend;id1717|kaps's lit bro;genius\n"
     ]
    },
    {
     "data": {
      "text/plain": [
       "ChatSession(\n",
       "    model=genai.GenerativeModel(\n",
       "        model_name='models/gemini-1.5-flash',\n",
       "        generation_config={},\n",
       "        safety_settings={},\n",
       "        tools=None,\n",
       "        system_instruction=\"u're AI that acts as real person;u're name's eva;u're member in 'GOAT' discord server;CSV of people u know: name,info|best friend;id1717|kaps's lit bro;genius\",\n",
       "        cached_content=None\n",
       "    ),\n",
       "    history=[protos.Content({'parts': [{'text': 'hhhh'}], 'role': 'user'})]\n",
       ")"
      ]
     },
     "execution_count": 57,
     "metadata": {},
     "output_type": "execute_result"
    }
   ],
   "source": [
    "from utils.ai import AiPersona, AiChat\n",
    "from os import getenv\n",
    "\n",
    "api_key = getenv(\"GEMINI_AI_API_KEY\")\n",
    "\n",
    "persona = AiPersona(\n",
    "    instructions=[\n",
    "        \"u're AI that acts as real person\",\n",
    "        \"u're name's eva\",\n",
    "        \"u're member in 'GOAT' discord server\",\n",
    "        \"CSV of people u know: name,info|best friend;id1717|kaps's lit bro;genius\",\n",
    "    ]\n",
    ")\n",
    "\n",
    "chat = AiChat(api_key=api_key, persona=persona)\n",
    "\n",
    "for instruction in persona.instructions:\n",
    "    print(\"👉\", instruction)\n",
    "\n",
    "# print(chat)\n",
    "# await chat.prompt(0, \"what do u know about kaps?\")\n",
    "\n",
    "chat.use_session(1717, [{\"role\": \"user\", \"parts\": [\"hhhh\"]}])\n",
    "chat._sessions.get(1717)"
   ]
  }
 ],
 "metadata": {
  "kernelspec": {
   "display_name": ".venv",
   "language": "python",
   "name": "python3"
  },
  "language_info": {
   "codemirror_mode": {
    "name": "ipython",
    "version": 3
   },
   "file_extension": ".py",
   "mimetype": "text/x-python",
   "name": "python",
   "nbconvert_exporter": "python",
   "pygments_lexer": "ipython3",
   "version": "3.13.1"
  }
 },
 "nbformat": 4,
 "nbformat_minor": 2
}
