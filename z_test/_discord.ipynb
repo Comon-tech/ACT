{
 "cells": [
  {
   "cell_type": "code",
   "execution_count": 5,
   "metadata": {},
   "outputs": [],
   "source": [
    "%load_ext autoreload\n",
    "%autoreload 2"
   ]
  },
  {
   "cell_type": "markdown",
   "metadata": {},
   "source": [
    "# 🎮 Discord\n"
   ]
  },
  {
   "cell_type": "code",
   "execution_count": 2,
   "metadata": {},
   "outputs": [],
   "source": [
    "import os\n",
    "import discord  # type: ignore\n",
    "\n",
    "intents = discord.Intents.default()\n",
    "intents.message_content = True\n",
    "client = discord.Client(intents=intents) \n",
    "await client.login(os.getenv(\"DISCORD_BOT_TOKEN\"))"
   ]
  },
  {
   "cell_type": "code",
   "execution_count": 7,
   "metadata": {},
   "outputs": [
    {
     "name": "stdout",
     "output_type": "stream",
     "text": [
      "{'username': 'ambratolm', 'id': 304721494276308992, 'avatar': 'ad7d844a8ef9b1dc10bc9570e4bb328e', 'discriminator': '0', 'global_name': '𝘼𝙢𝙗𝙧𝙖𝙩𝙤𝙡𝙢', 'bot': False}\n"
     ]
    }
   ],
   "source": [
    "my_id = 304721494276308992\n",
    "user: discord.User = await client.fetch_user(my_id)\n",
    "print(user._to_minimal_user_json())"
   ]
  },
  {
   "cell_type": "code",
   "execution_count": 27,
   "metadata": {},
   "outputs": [
    {
     "data": {
      "text/plain": [
       "'id,name,display_name\\r\\n1330783368773632052,𝓐𝓒𝓣𝓲𝓿𝓪,𝓐𝓒𝓣𝓲𝓿𝓪\\r\\n304721494276308992,ambratolm,𝘼𝙢𝙗𝙧𝙖𝙩𝙤𝙡𝙢\\r\\n'"
      ]
     },
     "execution_count": 27,
     "metadata": {},
     "output_type": "execute_result"
    }
   ],
   "source": [
    "import csv\n",
    "from io import StringIO\n",
    "from discord import TextChannel\n",
    "async def get_recent_channel_users(channel: TextChannel, limit=3) -> list:\n",
    "    \"\"\"Fetch recent unique message authors from a text channel.\"\"\"\n",
    "    users = set()  # Use a set to store unique users\n",
    "    async for msg in channel.history(limit=limit):\n",
    "        users.add(msg.author)  # Add author to the set (duplicates are ignored)\n",
    "    return list(users)  # Convert the set back to a list\n",
    "\n",
    "async def get_recent_channel_users_csv(channel: TextChannel, limit=10) -> str:\n",
    "    \"\"\"Fetch recent unique message authors from a text channel in CSV format.\n",
    "    \"\"\"\n",
    "    users = set()\n",
    "    async for msg in channel.history(limit=limit):\n",
    "        user_info = {  # Store in a dictionary for CSV writer\n",
    "            \"id\": msg.author.id,\n",
    "            \"name\": msg.author.name,\n",
    "            \"display_name\": msg.author.display_name,\n",
    "        }\n",
    "        users.add(tuple(user_info.values()))  # Stringify the user object directly\n",
    "    # Create CSV string in memory:\n",
    "    output = StringIO()  # Use StringIO for in-memory file-like object\n",
    "    writer = csv.DictWriter(output, fieldnames=user_info.keys())  # Use DictWriter\n",
    "    writer.writeheader()  # Write the header row\n",
    "    for user_data in users:\n",
    "        writer.writerow(dict(zip(user_info.keys(), user_data)))  # Write each user as row\n",
    "    return output.getvalue() \n",
    "\n",
    "\n",
    "guild_id = 1337479592398553121  # C-T-S guild id\n",
    "channel_id = 1337479593183023226  # general channel id\n",
    "guild = await client.fetch_guild(guild_id)\n",
    "channel = await guild.fetch_channel(channel_id)\n",
    "\n",
    "await get_recent_channel_users_csv(channel, 10)"
   ]
  },
  {
   "cell_type": "code",
   "execution_count": null,
   "metadata": {},
   "outputs": [
    {
     "name": "stderr",
     "output_type": "stream",
     "text": [
      "⏳ [db.main] Database client opening...\n",
      "✅ [db.main] 🍃 Database client connected to localhost:1717.\n",
      "ℹ️ [db.main] \n",
      "┌─────────────┐\n",
      "│ Databases:  │\n",
      "│ • ACT       │\n",
      "│ • ACT_c-t-s │\n",
      "│ • admin     │\n",
      "│ • config    │\n",
      "│ • local     │\n",
      "└─────────────┘\n"
     ]
    },
    {
     "name": "stdout",
     "output_type": "stream",
     "text": [
      "Collection(Database(MongoClient(host=['localhost:1717'], document_class=dict, tz_aware=False, connect=True), 'ACT_c-t-s'), 'ai_chat_users')\n"
     ]
    }
   ],
   "source": [
    "import logging\n",
    "import os\n",
    "from discord import Guild  # type: ignore\n",
    "from db.main import *\n",
    "from db.model import *\n",
    "from db.actor import *\n",
    "db_uri = os.getenv(\"MONGO_DB_URI\")\n",
    "db_client = ActDbClient(host=db_uri, name=\"ACT\")\n",
    "db = db_client.get_database_by_id(guild_id)"
   ]
  },
  {
   "cell_type": "code",
   "execution_count": 66,
   "metadata": {},
   "outputs": [
    {
     "data": {
      "text/plain": [
       "'_id,name,display_name\\r\\n998345861585186836,c_o_m_o_n,Collins\\r\\n304721494276308992,ambratolm,𝘼𝙢𝙗𝙧𝙖𝙩𝙤𝙡𝙢\\r\\n'"
      ]
     },
     "execution_count": 66,
     "metadata": {},
     "output_type": "execute_result"
    }
   ],
   "source": [
    "member = await guild.fetch_member(304721494276308992)\n",
    "\n",
    "\n",
    "async def save_member(member):\n",
    "    ai_chat_users = db[\"ai_chat_users\"]\n",
    "    return ai_chat_users.update_one(\n",
    "        {\"_id\": member.id },\n",
    "        {\n",
    "            \"$set\": {\n",
    "                \"_id\": member.id,\n",
    "                \"name\": member.name,\n",
    "                \"display_name\": member.display_name,\n",
    "            }\n",
    "        },\n",
    "        upsert=True,\n",
    "    )\n",
    "\n",
    "def load_members_csv():\n",
    "    ai_chat_users = db[\"ai_chat_users\"]\n",
    "    members = ai_chat_users.find()\n",
    "    output = StringIO()\n",
    "    writer = csv.DictWriter(output, fieldnames=[\"_id\", \"name\", \"display_name\"] )\n",
    "    writer.writeheader()\n",
    "    for member in members:\n",
    "        writer.writerow(member)\n",
    "    return output.getvalue() \n",
    "\n",
    "\n",
    "await save_member(member)\n",
    "load_members_csv()"
   ]
  }
 ],
 "metadata": {
  "kernelspec": {
   "display_name": ".venv",
   "language": "python",
   "name": "python3"
  },
  "language_info": {
   "codemirror_mode": {
    "name": "ipython",
    "version": 3
   },
   "file_extension": ".py",
   "mimetype": "text/x-python",
   "name": "python",
   "nbconvert_exporter": "python",
   "pygments_lexer": "ipython3",
   "version": "3.13.1"
  }
 },
 "nbformat": 4,
 "nbformat_minor": 2
}
