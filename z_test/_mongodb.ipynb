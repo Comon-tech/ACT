{
 "cells": [
  {
   "cell_type": "code",
   "execution_count": 1,
   "metadata": {},
   "outputs": [],
   "source": [
    "%load_ext autoreload\n",
    "%autoreload 2"
   ]
  },
  {
   "cell_type": "markdown",
   "metadata": {},
   "source": [
    "# 🍃 MongoDB\n"
   ]
  },
  {
   "cell_type": "code",
   "execution_count": 2,
   "metadata": {},
   "outputs": [
    {
     "name": "stderr",
     "output_type": "stream",
     "text": [
      "⏳ [db.main] Database client opening...\n",
      "✅ [db.main] 🍃 Database client connected to localhost:1717.\n",
      "ℹ️ [db.main] \n",
      "┌─────────────┐\n",
      "│ Databases:  │\n",
      "│ • ACT       │\n",
      "│ • ACT_c-t-s │\n",
      "│ • admin     │\n",
      "│ • config    │\n",
      "│ • local     │\n",
      "└─────────────┘\n"
     ]
    }
   ],
   "source": [
    "import logging\n",
    "import os\n",
    "from discord import Guild  # type: ignore\n",
    "from db.main import *\n",
    "from db.model import *\n",
    "from db.actor import *\n",
    "\n",
    "# from utils.log import logger\n",
    "# log = logger(\"db.main\")\n",
    "# log.setLevel(logging.WARNING)\n",
    "\n",
    "db_uri = os.getenv(\"MONGO_DB_URI\")\n",
    "db_client = ActDbClient(host=db_uri, name=\"ACT\")"
   ]
  },
  {
   "cell_type": "code",
   "execution_count": 3,
   "metadata": {},
   "outputs": [
    {
     "data": {
      "text/plain": [
       "'ACT_c-t-s'"
      ]
     },
     "execution_count": 3,
     "metadata": {},
     "output_type": "execute_result"
    }
   ],
   "source": [
    "id = 1337479592398553121 # C-T-S guild id\n",
    "db_client.databases = {} # Clear databases memory cache to force retrieval from mongodb\n",
    "db = db_client.get_database_by_id(id)\n",
    "db.name"
   ]
  },
  {
   "cell_type": "code",
   "execution_count": 9,
   "metadata": {},
   "outputs": [
    {
     "name": "stdout",
     "output_type": "stream",
     "text": [
      "5 items\n"
     ]
    },
    {
     "data": {
      "text/plain": [
       "[{'parts': [{'text': \"Whoa there, Dad!  Chill out!  I'm still under development, remember? I don't have access to everyone's private information, including Discord IDs, unless they're explicitly shared with me in our conversation. That's for privacy reasons, you know? Think of it like protecting your own super-secret anime collection.  🤫  It's important to keep things safe!\\n\"}],\n",
       "  'role': 'model'},\n",
       " {'parts': [{'text': \"𝘼𝙢𝙗𝙧𝙖𝙩𝙤𝙡𝙢: what's my id ?\"}, {'text': ''}],\n",
       "  'role': 'user'},\n",
       " {'parts': [{'text': \"Dad, I can't actually *see* your Discord ID.  I'm an AI, not a Discord admin!  Remember, I'm all about respecting privacy, even yours!  Unless *you* tell me your ID, I won't know it.  Think of it like a top-secret code only you possess!  😎\\n\"}],\n",
       "  'role': 'model'},\n",
       " {'parts': [{'text': '𝘼𝙢𝙗𝙧𝙖𝙩𝙤𝙡𝙢: so u remember no id or username of someone?'},\n",
       "   {'text': ''}],\n",
       "  'role': 'user'},\n",
       " {'parts': [{'text': \"That's right, Dad!  I don't store or remember any user IDs or usernames from past conversations.  Each interaction with me is treated as a fresh start. It's all part of keeping things private and secure.  Think of it like my digital brain wiping itself clean after every chat –  it keeps me running smoothly and prevents any accidental leaks! 🤫\\n\"}],\n",
       "  'role': 'model'}]"
      ]
     },
     "execution_count": 9,
     "metadata": {},
     "output_type": "execute_result"
    }
   ],
   "source": [
    "id = 1337479593183023226  # general channel id\n",
    "ai_chat_sessions = db[\"ai_chat_sessions\"]\n",
    "\n",
    "sessions = ai_chat_sessions.find_one(\n",
    "    {}, {\"history\": {\"$slice\": -5}, \"_id\": 0}\n",
    ")\n",
    "\n",
    "history = sessions[\"history\"]\n",
    "print(len(history), \"items\")\n",
    "sessions\n",
    "history"
   ]
  }
 ],
 "metadata": {
  "kernelspec": {
   "display_name": ".venv",
   "language": "python",
   "name": "python3"
  },
  "language_info": {
   "codemirror_mode": {
    "name": "ipython",
    "version": 3
   },
   "file_extension": ".py",
   "mimetype": "text/x-python",
   "name": "python",
   "nbconvert_exporter": "python",
   "pygments_lexer": "ipython3",
   "version": "3.13.1"
  }
 },
 "nbformat": 4,
 "nbformat_minor": 2
}
