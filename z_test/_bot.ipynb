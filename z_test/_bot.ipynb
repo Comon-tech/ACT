{
 "cells": [
  {
   "cell_type": "code",
   "execution_count": 5,
   "metadata": {},
   "outputs": [],
   "source": [
    "%load_ext autoreload\n",
    "%autoreload 2"
   ]
  },
  {
   "cell_type": "markdown",
   "metadata": {},
   "source": [
    "# 🎮 Bot\n"
   ]
  },
  {
   "cell_type": "code",
   "execution_count": 2,
   "metadata": {},
   "outputs": [],
   "source": [
    "import os\n",
    "import discord  # type: ignore\n",
    "\n",
    "intents = discord.Intents.default()\n",
    "intents.message_content = True\n",
    "client = discord.Client(intents=intents) \n",
    "await client.login(os.getenv(\"DISCORD_BOT_TOKEN\"))"
   ]
  },
  {
   "cell_type": "code",
   "execution_count": 7,
   "metadata": {},
   "outputs": [
    {
     "name": "stdout",
     "output_type": "stream",
     "text": [
      "{'username': 'ambratolm', 'id': 304721494276308992, 'avatar': 'ad7d844a8ef9b1dc10bc9570e4bb328e', 'discriminator': '0', 'global_name': '𝘼𝙢𝙗𝙧𝙖𝙩𝙤𝙡𝙢', 'bot': False}\n"
     ]
    }
   ],
   "source": [
    "my_id = 304721494276308992\n",
    "user: discord.User = await client.fetch_user(my_id)\n",
    "print(user._to_minimal_user_json())"
   ]
  }
 ],
 "metadata": {
  "kernelspec": {
   "display_name": ".venv",
   "language": "python",
   "name": "python3"
  },
  "language_info": {
   "codemirror_mode": {
    "name": "ipython",
    "version": 3
   },
   "file_extension": ".py",
   "mimetype": "text/x-python",
   "name": "python",
   "nbconvert_exporter": "python",
   "pygments_lexer": "ipython3",
   "version": "3.13.1"
  }
 },
 "nbformat": 4,
 "nbformat_minor": 2
}
