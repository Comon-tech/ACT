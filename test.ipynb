{
 "cells": [
  {
   "cell_type": "markdown",
   "metadata": {},
   "source": [
    "## 🧪 Test"
   ]
  },
  {
   "cell_type": "code",
   "execution_count": 113,
   "metadata": {},
   "outputs": [
    {
     "name": "stdout",
     "output_type": "stream",
     "text": [
      "The autoreload extension is already loaded. To reload it, use:\n",
      "  %reload_ext autoreload\n"
     ]
    }
   ],
   "source": [
    "%load_ext autoreload\n",
    "%autoreload 2"
   ]
  },
  {
   "cell_type": "markdown",
   "metadata": {},
   "source": [
    "### 🎮 Discord"
   ]
  },
  {
   "cell_type": "code",
   "execution_count": 114,
   "metadata": {},
   "outputs": [
    {
     "name": "stderr",
     "output_type": "stream",
     "text": [
      "⚠️ [discord.client] PyNaCl is not installed, voice will NOT be supported\n"
     ]
    },
    {
     "name": "stdout",
     "output_type": "stream",
     "text": [
      "𝘼𝙢𝙗𝙧𝙖𝙩𝙤𝙡𝙢\n"
     ]
    }
   ],
   "source": [
    "import os\n",
    "import discord\n",
    "\n",
    "my_id = 304721494276308992\n",
    "\n",
    "intents = discord.Intents.default()\n",
    "intents.message_content = True\n",
    "client = discord.Client(intents=intents)\n",
    "await client.login(os.getenv(\"DISCORD_BOT_TOKEN\"))\n",
    "user: discord.User = await client.fetch_user(my_id)\n",
    "\n",
    "print(user.display_name)"
   ]
  },
  {
   "cell_type": "markdown",
   "metadata": {},
   "source": [
    "### 🍃 MongoDB"
   ]
  },
  {
   "cell_type": "code",
   "execution_count": 115,
   "metadata": {},
   "outputs": [
    {
     "name": "stderr",
     "output_type": "stream",
     "text": [
      "❌ [db.model] 1 validation error for DbRef\n",
      "id\n",
      "  Field required [type=missing, input_value={'_id': 30472149427630899...me': 'ACT_my_database_'}, input_type=dict]\n",
      "    For further information visit https://errors.pydantic.dev/2.10/v/missing\n",
      "Traceback (most recent call last):\n",
      "  File \"d:\\Abdelhakim\\Desktop\\ACT\\db\\model.py\", line 41, in create\n",
      "    return cls(database, **document)\n",
      "  File \"d:\\Abdelhakim\\Desktop\\ACT\\db\\model.py\", line 24, in __init__\n",
      "    super().__init__(**kwargs)\n",
      "    ~~~~~~~~~~~~~~~~^^^^^^^^^^\n",
      "  File \"d:\\Abdelhakim\\Desktop\\ACT\\.venv\\Lib\\site-packages\\pydantic\\main.py\", line 214, in __init__\n",
      "    validated_self = self.__pydantic_validator__.validate_python(data, self_instance=self)\n",
      "pydantic_core._pydantic_core.ValidationError: 1 validation error for DbRef\n",
      "id\n",
      "  Field required [type=missing, input_value={'_id': 30472149427630899...me': 'ACT_my_database_'}, input_type=dict]\n",
      "    For further information visit https://errors.pydantic.dev/2.10/v/missing\n"
     ]
    },
    {
     "ename": "AttributeError",
     "evalue": "'NoneType' object has no attribute 'save'",
     "output_type": "error",
     "traceback": [
      "\u001b[1;31m---------------------------------------------------------------------------\u001b[0m",
      "\u001b[1;31mAttributeError\u001b[0m                            Traceback (most recent call last)",
      "Cell \u001b[1;32mIn[115], line 14\u001b[0m\n\u001b[0;32m     11\u001b[0m db_client \u001b[38;5;241m=\u001b[39m ActDbClient(host\u001b[38;5;241m=\u001b[39mdb_uri, name\u001b[38;5;241m=\u001b[39m\u001b[38;5;124m\"\u001b[39m\u001b[38;5;124mACT\u001b[39m\u001b[38;5;124m\"\u001b[39m)\n\u001b[0;32m     13\u001b[0m \u001b[38;5;28mid\u001b[39m \u001b[38;5;241m=\u001b[39m \u001b[38;5;241m304721494276308992\u001b[39m\n\u001b[1;32m---> 14\u001b[0m db \u001b[38;5;241m=\u001b[39m \u001b[43mdb_client\u001b[49m\u001b[38;5;241;43m.\u001b[39;49m\u001b[43mget_database_by_id\u001b[49m\u001b[43m(\u001b[49m\u001b[38;5;28;43mid\u001b[39;49m\u001b[43m,\u001b[49m\u001b[43m \u001b[49m\u001b[38;5;124;43m\"\u001b[39;49m\u001b[38;5;124;43mmy#database$\u001b[39;49m\u001b[38;5;124;43m\"\u001b[39;49m\u001b[43m)\u001b[49m\n\u001b[0;32m     16\u001b[0m \u001b[38;5;66;03m# db\u001b[39;00m\n",
      "File \u001b[1;32md:\\Abdelhakim\\Desktop\\ACT\\db\\main.py:52\u001b[0m, in \u001b[0;36mActDbClient.get_database_by_id\u001b[1;34m(self, id, name)\u001b[0m\n\u001b[0;32m     50\u001b[0m     db_ref_raw \u001b[38;5;241m=\u001b[39m {\u001b[38;5;124m\"\u001b[39m\u001b[38;5;124m_id\u001b[39m\u001b[38;5;124m\"\u001b[39m: \u001b[38;5;28mid\u001b[39m, \u001b[38;5;124m\"\u001b[39m\u001b[38;5;124mname\u001b[39m\u001b[38;5;124m\"\u001b[39m: db_name}\n\u001b[0;32m     51\u001b[0m     db_ref \u001b[38;5;241m=\u001b[39m DbRef\u001b[38;5;241m.\u001b[39mcreate(\u001b[38;5;28mself\u001b[39m\u001b[38;5;241m.\u001b[39mmain_database, db_ref_raw)\n\u001b[1;32m---> 52\u001b[0m     \u001b[43mdb_ref\u001b[49m\u001b[38;5;241;43m.\u001b[39;49m\u001b[43msave\u001b[49m()\n\u001b[0;32m     53\u001b[0m     \u001b[38;5;28mself\u001b[39m\u001b[38;5;241m.\u001b[39mdatabases[\u001b[38;5;28mid\u001b[39m] \u001b[38;5;241m=\u001b[39m \u001b[38;5;28mself\u001b[39m\u001b[38;5;241m.\u001b[39mget_database(db_name)\n\u001b[0;32m     54\u001b[0m \u001b[38;5;28;01mreturn\u001b[39;00m \u001b[38;5;28mself\u001b[39m\u001b[38;5;241m.\u001b[39mdatabases\u001b[38;5;241m.\u001b[39mget(\u001b[38;5;28mid\u001b[39m)\n",
      "\u001b[1;31mAttributeError\u001b[0m: 'NoneType' object has no attribute 'save'"
     ]
    }
   ],
   "source": [
    "import logging\n",
    "import os\n",
    "from discord import Guild\n",
    "from db.main import *\n",
    "from db.model import *\n",
    "from db.actor import *\n",
    "db_uri = os.getenv(\"MONGO_DB_URI\")\n",
    "from utils.log import logger\n",
    "log = logger(\"db.main\")\n",
    "log.setLevel(logging.WARNING)\n",
    "db_client = ActDbClient(host=db_uri, name=\"ACT\")\n",
    "\n",
    "id = 304721494276308992\n",
    "db = db_client.get_database_by_id(id, \"my#database$\")\n",
    "\n",
    "# db"
   ]
  },
  {
   "cell_type": "markdown",
   "metadata": {},
   "source": [
    "### 🛠 Utils"
   ]
  },
  {
   "cell_type": "code",
   "execution_count": null,
   "metadata": {},
   "outputs": [
    {
     "data": {
      "text/plain": [
       "['hi', 'hello', 'world']"
      ]
     },
     "execution_count": 84,
     "metadata": {},
     "output_type": "execute_result"
    }
   ],
   "source": [
    "from datetime import datetime\n",
    "datetime.now().strftime(\"[%Y-%m-%d|%X]\")\n",
    "obj = {\"hi\": 0, \"hello\": 1, \"world\": 2}\n",
    "[*obj]"
   ]
  },
  {
   "cell_type": "markdown",
   "metadata": {},
   "source": [
    "### 👾 Gameplay"
   ]
  },
  {
   "cell_type": "code",
   "execution_count": 141,
   "metadata": {},
   "outputs": [
    {
     "name": "stdout",
     "output_type": "stream",
     "text": [
      "[(0, 0), (1, 100), (2, 565), (3, 1558), (4, 3200), (5, 5590), (6, 8818), (7, 12964), (8, 18101), (9, 24300), (10, 31622)]\n",
      "[(0, 0), (1, 30), (2, 60), (3, 90), (4, 120), (5, 150), (6, 180), (7, 210), (8, 240), (9, 270), (10, 300)]\n",
      "\n",
      "id=0 xp=0 level=0 rank=0 gold=0 items=[]\n",
      "xp for next level: 100\n",
      "level for next rank: 30\n"
     ]
    }
   ],
   "source": [
    "from db.actor import Actor\n",
    "\n",
    "actor = Actor(None, id=0)\n",
    "\n",
    "\n",
    "print(actor.level_xp_table(0, 10))\n",
    "print(actor.rank_level_table(0, 10))\n",
    "\n",
    "print()\n",
    "print(actor)\n",
    "print(\"xp for next level:\", actor.next_level_xp)\n",
    "print(\"level for next rank:\", actor.next_rank_level)"
   ]
  }
 ],
 "metadata": {
  "kernelspec": {
   "display_name": ".venv",
   "language": "python",
   "name": "python3"
  },
  "language_info": {
   "codemirror_mode": {
    "name": "ipython",
    "version": 3
   },
   "file_extension": ".py",
   "mimetype": "text/x-python",
   "name": "python",
   "nbconvert_exporter": "python",
   "pygments_lexer": "ipython3",
   "version": "3.13.1"
  }
 },
 "nbformat": 4,
 "nbformat_minor": 2
}
